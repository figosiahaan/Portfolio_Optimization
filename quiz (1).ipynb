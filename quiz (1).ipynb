{
 "cells": [
  {
   "cell_type": "markdown",
   "id": "66a1628f-0686-4f23-ad5f-600b9548fa45",
   "metadata": {
    "deletable": false,
    "editable": false,
    "nbgrader": {
     "cell_type": "markdown",
     "checksum": "a78b281b72c248ab84e086eb2fc46ed3",
     "grade": false,
     "grade_id": "cell-c4772a1394ec17c3",
     "locked": true,
     "schema_version": 3,
     "solution": false,
     "task": false
    },
    "slideshow": {
     "slide_type": "slide"
    },
    "tags": []
   },
   "source": [
    "# POLI 175 - Quiz 01\n",
    "\n",
    "In this quiz, you will run a simple and a multiple linear regression in R.\n",
    "\n",
    "Due date: Oct 31, 2024 (💀👻🎃)\n",
    "\n",
    "Again: The grading for the quiz is:\n",
    "\n",
    "$$ 0.7 \\times \\text{TRY} + 0.3 \\times \\text{CORRECT} $$\n",
    "\n",
    "The points below refer to the correctness part."
   ]
  },
  {
   "cell_type": "code",
   "execution_count": 1,
   "id": "5708d993-3c43-4678-9f8d-619adf76aacc",
   "metadata": {
    "deletable": false,
    "editable": false,
    "nbgrader": {
     "cell_type": "code",
     "checksum": "b05dab16f77c60da5f405e5e10d5130b",
     "grade": false,
     "grade_id": "cell-c6c4b489b2d8f146",
     "locked": true,
     "schema_version": 3,
     "solution": false,
     "task": false
    }
   },
   "outputs": [],
   "source": [
    "# Packages to load by default\n",
    "pkgs <- c('testthat', 'digest', 'stringr', 'broom')\n",
    "install.packages(setdiff(pkgs, rownames(installed.packages())), , repos = \"https://cloud.r-project.org\")\n",
    "invisible(lapply(pkgs, library, character.only = TRUE))\n",
    "\n",
    "# Suppress Warnings\n",
    "options(warn = -1)"
   ]
  },
  {
   "cell_type": "markdown",
   "id": "1280d845",
   "metadata": {
    "deletable": false,
    "editable": false,
    "nbgrader": {
     "cell_type": "markdown",
     "checksum": "18948632502035e87aafe0b2a6e7dbcf",
     "grade": false,
     "grade_id": "cell-aa54a57c3aa033a0",
     "locked": true,
     "schema_version": 3,
     "solution": false,
     "task": false
    },
    "slideshow": {
     "slide_type": "slide"
    }
   },
   "source": [
    "## Question 01: Install and load packages (2pts)\n",
    "\n",
    "You will need to load the libraries:\n",
    "\n",
    "1. `tidyverse`\n",
    "2. `car`\n",
    "3. `pROC`\n",
    "4. `caret`\n",
    "5. `interactions`\n",
    "\n",
    "The first step in loading the libraries is installing them. Run the code below, and you should be good to go."
   ]
  },
  {
   "cell_type": "code",
   "execution_count": 2,
   "id": "9a8a1d0f-ee1c-49ba-9229-638dec979327",
   "metadata": {
    "deletable": false,
    "editable": false,
    "nbgrader": {
     "cell_type": "code",
     "checksum": "8e0b1db2d10586d79fe4117e8748b027",
     "grade": false,
     "grade_id": "cell-c9f35f4c34bc48a6",
     "locked": true,
     "schema_version": 3,
     "solution": false,
     "task": false
    }
   },
   "outputs": [],
   "source": [
    "# Run me :) #\n",
    "# But be prepared: It will take some time to run\n",
    "pkgs <- c('tidyverse', 'car', 'pROC', 'caret', 'interactions')\n",
    "install.packages(setdiff(pkgs, rownames(installed.packages())), , repos = \"https://cloud.r-project.org\")"
   ]
  },
  {
   "cell_type": "code",
   "execution_count": 3,
   "id": "99c207e3",
   "metadata": {
    "deletable": false,
    "nbgrader": {
     "cell_type": "code",
     "checksum": "eaba5327b1ae1f58f88b7567756945c1",
     "grade": false,
     "grade_id": "cell-3523e38746c4f708",
     "locked": false,
     "schema_version": 3,
     "solution": true,
     "task": false
    }
   },
   "outputs": [
    {
     "name": "stderr",
     "output_type": "stream",
     "text": [
      "── \u001b[1mAttaching core tidyverse packages\u001b[22m ──────────────────────── tidyverse 2.0.0 ──\n",
      "\u001b[32m✔\u001b[39m \u001b[34mdplyr    \u001b[39m 1.1.4     \u001b[32m✔\u001b[39m \u001b[34mpurrr    \u001b[39m 1.0.2\n",
      "\u001b[32m✔\u001b[39m \u001b[34mforcats  \u001b[39m 1.0.0     \u001b[32m✔\u001b[39m \u001b[34mreadr    \u001b[39m 2.1.5\n",
      "\u001b[32m✔\u001b[39m \u001b[34mggplot2  \u001b[39m 3.5.0     \u001b[32m✔\u001b[39m \u001b[34mtibble   \u001b[39m 3.2.1\n",
      "\u001b[32m✔\u001b[39m \u001b[34mlubridate\u001b[39m 1.9.3     \u001b[32m✔\u001b[39m \u001b[34mtidyr    \u001b[39m 1.3.1\n",
      "── \u001b[1mConflicts\u001b[22m ────────────────────────────────────────── tidyverse_conflicts() ──\n",
      "\u001b[31m✖\u001b[39m \u001b[34mreadr\u001b[39m::\u001b[32medition_get()\u001b[39m   masks \u001b[34mtestthat\u001b[39m::edition_get()\n",
      "\u001b[31m✖\u001b[39m \u001b[34mdplyr\u001b[39m::\u001b[32mfilter()\u001b[39m        masks \u001b[34mstats\u001b[39m::filter()\n",
      "\u001b[31m✖\u001b[39m \u001b[34mpurrr\u001b[39m::\u001b[32mis_null()\u001b[39m       masks \u001b[34mtestthat\u001b[39m::is_null()\n",
      "\u001b[31m✖\u001b[39m \u001b[34mdplyr\u001b[39m::\u001b[32mlag()\u001b[39m           masks \u001b[34mstats\u001b[39m::lag()\n",
      "\u001b[31m✖\u001b[39m \u001b[34mreadr\u001b[39m::\u001b[32mlocal_edition()\u001b[39m masks \u001b[34mtestthat\u001b[39m::local_edition()\n",
      "\u001b[31m✖\u001b[39m \u001b[34mdplyr\u001b[39m::\u001b[32mmatches()\u001b[39m       masks \u001b[34mtidyr\u001b[39m::matches(), \u001b[34mtestthat\u001b[39m::matches()\n",
      "\u001b[36mℹ\u001b[39m Use the conflicted package (\u001b[3m\u001b[34m<http://conflicted.r-lib.org/>\u001b[39m\u001b[23m) to force all conflicts to become errors\n",
      "Loading required package: carData\n",
      "\n",
      "\n",
      "Attaching package: ‘car’\n",
      "\n",
      "\n",
      "The following object is masked from ‘package:dplyr’:\n",
      "\n",
      "    recode\n",
      "\n",
      "\n",
      "The following object is masked from ‘package:purrr’:\n",
      "\n",
      "    some\n",
      "\n",
      "\n",
      "Type 'citation(\"pROC\")' for a citation.\n",
      "\n",
      "\n",
      "Attaching package: ‘pROC’\n",
      "\n",
      "\n",
      "The following objects are masked from ‘package:stats’:\n",
      "\n",
      "    cov, smooth, var\n",
      "\n",
      "\n",
      "Loading required package: lattice\n",
      "\n",
      "\n",
      "Attaching package: ‘caret’\n",
      "\n",
      "\n",
      "The following object is masked from ‘package:purrr’:\n",
      "\n",
      "    lift\n",
      "\n",
      "\n"
     ]
    }
   ],
   "source": [
    "# your code here\n",
    "library(tidyverse)\n",
    "library(car)\n",
    "library(pROC)\n",
    "library(caret)\n",
    "library(interactions)\n"
   ]
  },
  {
   "cell_type": "code",
   "execution_count": 4,
   "id": "e3a05235-c11b-4a92-bd9b-9afef66b0a77",
   "metadata": {
    "deletable": false,
    "editable": false,
    "nbgrader": {
     "cell_type": "code",
     "checksum": "e1ee2fafd1621bd5f67a7e19d9f9a22b",
     "grade": true,
     "grade_id": "cell-e4542d422eb89a12",
     "locked": true,
     "points": 0.12,
     "schema_version": 3,
     "solution": false,
     "task": false
    },
    "slideshow": {
     "slide_type": ""
    },
    "tags": []
   },
   "outputs": [
    {
     "name": "stdout",
     "output_type": "stream",
     "text": [
      "\u001b[32mTest passed\u001b[39m 🎉\n"
     ]
    }
   ],
   "source": [
    "# Public test\n",
    "test_that('`tidyverse` not loaded. Please check the instructions.', {\n",
    "    expect_equal(is.element(\"package:tidyverse\", search()), TRUE)\n",
    "})"
   ]
  },
  {
   "cell_type": "code",
   "execution_count": 5,
   "id": "dc0e5e2a-25f2-4ef7-9835-b44d843e1112",
   "metadata": {
    "deletable": false,
    "editable": false,
    "nbgrader": {
     "cell_type": "code",
     "checksum": "ac4673ff2a05a5a4c4cdbb72a32c203e",
     "grade": true,
     "grade_id": "cell-c97c1480b02b1c0b",
     "locked": true,
     "points": 0.12,
     "schema_version": 3,
     "solution": false,
     "task": false
    }
   },
   "outputs": [
    {
     "name": "stdout",
     "output_type": "stream",
     "text": [
      "\u001b[32mTest passed\u001b[39m 😀\n"
     ]
    }
   ],
   "source": [
    "test_that('`car` not loaded. Please check the instructions.', {\n",
    "    expect_equal(is.element(\"package:car\", search()), TRUE)\n",
    "})"
   ]
  },
  {
   "cell_type": "code",
   "execution_count": 6,
   "id": "ec6b482c-6794-46d3-af8d-a1534211933d",
   "metadata": {
    "deletable": false,
    "editable": false,
    "nbgrader": {
     "cell_type": "code",
     "checksum": "9baaa6d382387deb5452747acd7df575",
     "grade": true,
     "grade_id": "cell-4e859fb2232693e4",
     "locked": true,
     "points": 0.12,
     "schema_version": 3,
     "solution": false,
     "task": false
    }
   },
   "outputs": [
    {
     "name": "stdout",
     "output_type": "stream",
     "text": [
      "\u001b[32mTest passed\u001b[39m 😀\n"
     ]
    }
   ],
   "source": [
    "test_that('`interactions` not loaded. Please check the instructions.', {\n",
    "    expect_equal(is.element(\"package:interactions\", search()), TRUE)\n",
    "})"
   ]
  },
  {
   "cell_type": "code",
   "execution_count": 7,
   "id": "dede0bf5-2ea6-4ab9-a879-e7dc20ca016c",
   "metadata": {
    "deletable": false,
    "editable": false,
    "nbgrader": {
     "cell_type": "code",
     "checksum": "ee445a6d9aa2abd63e6a7dbe2723f145",
     "grade": true,
     "grade_id": "cell-c93e0273025706d4",
     "locked": true,
     "points": 0.12,
     "schema_version": 3,
     "solution": false,
     "task": false
    }
   },
   "outputs": [
    {
     "name": "stdout",
     "output_type": "stream",
     "text": [
      "\u001b[32mTest passed\u001b[39m 🥳\n"
     ]
    }
   ],
   "source": [
    "test_that('`caret` not loaded. Please check the instructions.', {\n",
    "    expect_equal(is.element(\"package:caret\", search()), TRUE)\n",
    "})"
   ]
  },
  {
   "cell_type": "code",
   "execution_count": 8,
   "id": "82f0f89c-2f67-4491-89f0-c6b592458892",
   "metadata": {
    "deletable": false,
    "editable": false,
    "nbgrader": {
     "cell_type": "code",
     "checksum": "f653fb02178b65847745f2e18f190eb5",
     "grade": true,
     "grade_id": "cell-fe385f020a00dda4",
     "locked": true,
     "points": 0.12,
     "schema_version": 3,
     "solution": false,
     "task": false
    }
   },
   "outputs": [
    {
     "name": "stdout",
     "output_type": "stream",
     "text": [
      "\u001b[32mTest passed\u001b[39m 🥇\n"
     ]
    }
   ],
   "source": [
    "test_that('`pROC` not loaded. Please check the instructions.', {\n",
    "    expect_equal(is.element(\"package:pROC\", search()), TRUE)\n",
    "})"
   ]
  },
  {
   "cell_type": "markdown",
   "id": "fbcba312-c4e8-43c7-adef-07535bb035cb",
   "metadata": {
    "deletable": false,
    "editable": false,
    "nbgrader": {
     "cell_type": "markdown",
     "checksum": "d0e93748711f01aa05d4ac0fab10aeb3",
     "grade": false,
     "grade_id": "cell-49a5d41ef05d2f0a",
     "locked": true,
     "schema_version": 3,
     "solution": false,
     "task": false
    },
    "slideshow": {
     "slide_type": "slide"
    },
    "tags": []
   },
   "source": [
    "## Question 02: Load the dataset (2pts)\n",
    "\n",
    "The dataset `Duncan.csv` is in the quiz folder. To load it, you need to do something like this:\n",
    "\n",
    "```r\n",
    "\n",
    "dat <- read.csv('Duncan.csv')\n",
    "\n",
    "```\n",
    "\n",
    "Save the dataset as `dat` (as in the above example)."
   ]
  },
  {
   "cell_type": "code",
   "execution_count": 9,
   "id": "27232c36-d406-447d-8447-222aa9afc89e",
   "metadata": {
    "deletable": false,
    "nbgrader": {
     "cell_type": "code",
     "checksum": "77ca1fe092aaec5ec1bed2d0c3b92a8f",
     "grade": false,
     "grade_id": "cell-48cde99604ee09f9",
     "locked": false,
     "schema_version": 3,
     "solution": true,
     "task": false
    }
   },
   "outputs": [],
   "source": [
    "# your code here\n",
    "dat <- read.csv('Duncan.csv')"
   ]
  },
  {
   "cell_type": "code",
   "execution_count": 10,
   "id": "2e54f164",
   "metadata": {
    "deletable": false,
    "editable": false,
    "nbgrader": {
     "cell_type": "code",
     "checksum": "21e1fbb459cec3065aa86343c9336332",
     "grade": true,
     "grade_id": "cell-e5a733ed59294841",
     "locked": true,
     "points": 0.6,
     "schema_version": 3,
     "solution": false,
     "task": false
    }
   },
   "outputs": [
    {
     "name": "stdout",
     "output_type": "stream",
     "text": [
      "\u001b[32mTest passed\u001b[39m 🎊\n"
     ]
    }
   ],
   "source": [
    "# Public test\n",
    "test_that('Dataset not load. Please check the instructions.', {\n",
    "    expect_equal(digest(dat), '8c140f9a8b73748795b2a2950034caad')\n",
    "})"
   ]
  },
  {
   "cell_type": "markdown",
   "id": "a8b7a9df-1935-4595-a2b2-e05e71a8cf8b",
   "metadata": {
    "deletable": false,
    "editable": false,
    "nbgrader": {
     "cell_type": "markdown",
     "checksum": "72f3a417f9d2b924cdf157204110e7f7",
     "grade": false,
     "grade_id": "cell-009b30eeabb86587",
     "locked": true,
     "schema_version": 3,
     "solution": false,
     "task": false
    },
    "slideshow": {
     "slide_type": "slide"
    },
    "tags": []
   },
   "source": [
    "## Question 03: Exploring the dataset (2pts)\n",
    "\n",
    "Explore the dataset. Find:\n",
    "\n",
    "1. (0.5 pts) Size of the dataset (using the function `dim`)\n",
    "1. (0.5 pts) Variable names (using the function `names`)\n",
    "1. (0.5 pts) First six observations (using the command `head`)\n",
    "1. (0.5 pts) Compute the descriptive stats (using the function `summary`)\n",
    "\n",
    "Save the results on:\n",
    "\n",
    "1. `dat_size`\n",
    "1. `dat_vnames`\n",
    "1. `dat_head`\n",
    "1. `dat_summary`"
   ]
  },
  {
   "cell_type": "code",
   "execution_count": 11,
   "id": "d654fc40",
   "metadata": {
    "deletable": false,
    "nbgrader": {
     "cell_type": "code",
     "checksum": "09d51ac454676594395554dcb7d2369a",
     "grade": false,
     "grade_id": "cell-c94a395be88c9938",
     "locked": false,
     "schema_version": 3,
     "solution": true,
     "task": false
    }
   },
   "outputs": [],
   "source": [
    "# your code here\n",
    "dat_size <- dim(dat)\n",
    "dat_vnames <- names(dat)\n",
    "dat_head <- head(dat)\n",
    "dat_summary <- summary(dat)\n",
    "\n"
   ]
  },
  {
   "cell_type": "code",
   "execution_count": 17,
   "id": "e5d38226",
   "metadata": {
    "deletable": false,
    "editable": false,
    "nbgrader": {
     "cell_type": "code",
     "checksum": "7c7d83ca6b0c691e3a6cff65d7843e3c",
     "grade": false,
     "grade_id": "cell-b5058324597b5598",
     "locked": true,
     "schema_version": 3,
     "solution": false,
     "task": false
    }
   },
   "outputs": [
    {
     "name": "stdout",
     "output_type": "stream",
     "text": [
      "Dataset dimension:\n",
      "[1] 45  5\n",
      "\n",
      "\n",
      "Variables:\n",
      "[1] \"type\"       \"income\"     \"education\"  \"prestige\"   \"profession\"\n",
      "\n",
      "\n",
      "Dataset head:\n",
      "  type income education prestige profession\n",
      "1 prof     62        86       82 accountant\n",
      "2 prof     72        76       83      pilot\n",
      "3 prof     75        92       90  architect\n",
      "4 prof     55        90       76     author\n",
      "5 prof     64        86       90    chemist\n",
      "6 prof     21        84       87   minister\n",
      "\n",
      "\n",
      "Dataset summary:\n",
      "     type               income        education         prestige    \n",
      " Length:45          Min.   : 7.00   Min.   :  7.00   Min.   : 3.00  \n",
      " Class :character   1st Qu.:21.00   1st Qu.: 26.00   1st Qu.:16.00  \n",
      " Mode  :character   Median :42.00   Median : 45.00   Median :41.00  \n",
      "                    Mean   :41.87   Mean   : 52.56   Mean   :47.69  \n",
      "                    3rd Qu.:64.00   3rd Qu.: 84.00   3rd Qu.:81.00  \n",
      "                    Max.   :81.00   Max.   :100.00   Max.   :97.00  \n",
      "  profession       \n",
      " Length:45         \n",
      " Class :character  \n",
      " Mode  :character  \n",
      "                   \n",
      "                   \n",
      "                   \n"
     ]
    }
   ],
   "source": [
    "## Checking your solutions\n",
    "# Dataset size\n",
    "cat(\"Dataset dimension:\\n\")\n",
    "print(dat_size)\n",
    "\n",
    "# Variable names\n",
    "cat(\"\\n\\nVariables:\\n\")\n",
    "print(dat_vnames)\n",
    "\n",
    "# Dataset head\n",
    "cat(\"\\n\\nDataset head:\\n\")\n",
    "print(dat_head)\n",
    "\n",
    "# Dataset summary\n",
    "cat(\"\\n\\nDataset summary:\\n\")\n",
    "print(dat_summary)"
   ]
  },
  {
   "cell_type": "code",
   "execution_count": 18,
   "id": "7bc76f8b",
   "metadata": {
    "deletable": false,
    "editable": false,
    "nbgrader": {
     "cell_type": "code",
     "checksum": "83281fed440220d2b7921e4c93379d2f",
     "grade": true,
     "grade_id": "cell-1aac5f00241e075c",
     "locked": true,
     "points": 0.15,
     "schema_version": 3,
     "solution": false,
     "task": false
    }
   },
   "outputs": [
    {
     "name": "stdout",
     "output_type": "stream",
     "text": [
      "\u001b[32mTest passed\u001b[39m 🎊\n"
     ]
    }
   ],
   "source": [
    "# Autograded tests\n",
    "test_that('Dataset size not computed correctly. Please check the instructions.', {\n",
    "    expect_equal(digest(dat_size), 'd7c42955eb8050abbb072c21b3505c3a')\n",
    "})"
   ]
  },
  {
   "cell_type": "code",
   "execution_count": 19,
   "id": "1c37e2b0",
   "metadata": {
    "deletable": false,
    "editable": false,
    "nbgrader": {
     "cell_type": "code",
     "checksum": "d0594408b4275a3f1d21d687438b0937",
     "grade": true,
     "grade_id": "cell-a3a19d94681e9c38",
     "locked": true,
     "points": 0.15,
     "schema_version": 3,
     "solution": false,
     "task": false
    }
   },
   "outputs": [
    {
     "name": "stdout",
     "output_type": "stream",
     "text": [
      "\u001b[32mTest passed\u001b[39m 🎉\n"
     ]
    }
   ],
   "source": [
    "# Autograded tests\n",
    "test_that('Variable names are incorrect. Please check the instructions.', {\n",
    "    expect_equal(digest(dat_vnames), 'e0765f23cdea3d13862e0123738945b2')\n",
    "})"
   ]
  },
  {
   "cell_type": "code",
   "execution_count": 20,
   "id": "082816dc",
   "metadata": {
    "deletable": false,
    "editable": false,
    "nbgrader": {
     "cell_type": "code",
     "checksum": "9422f50a431f1a474f38d514c43efbe5",
     "grade": true,
     "grade_id": "cell-d1ef5eff9263a311",
     "locked": true,
     "points": 0.15,
     "schema_version": 3,
     "solution": false,
     "task": false
    }
   },
   "outputs": [
    {
     "name": "stdout",
     "output_type": "stream",
     "text": [
      "\u001b[32mTest passed\u001b[39m 🎉\n"
     ]
    }
   ],
   "source": [
    "# Autograded tests\n",
    "test_that('Dataset head is not correct. Please check the instructions.', {\n",
    "    expect_equal(digest(dat_head), '76d114b8cc31868feb2493ce9a515e0e')\n",
    "})"
   ]
  },
  {
   "cell_type": "code",
   "execution_count": 21,
   "id": "5d9666bc-e769-4638-a771-01310cc7c79a",
   "metadata": {
    "deletable": false,
    "editable": false,
    "nbgrader": {
     "cell_type": "code",
     "checksum": "7e38af0ef18d72cc2fa1318541d4de20",
     "grade": true,
     "grade_id": "cell-691f4b66dea05d23",
     "locked": true,
     "points": 0.15,
     "schema_version": 3,
     "solution": false,
     "task": false
    }
   },
   "outputs": [
    {
     "name": "stdout",
     "output_type": "stream",
     "text": [
      "\u001b[32mTest passed\u001b[39m 🎊\n"
     ]
    }
   ],
   "source": [
    "# Autograded tests\n",
    "test_that('Dataset summary is incorrect. Please check the instructions.', {\n",
    "    expect_equal(digest(dat_summary), '743916eb3de97306837ffff244e5a6ed')\n",
    "})"
   ]
  },
  {
   "cell_type": "markdown",
   "id": "243e38f9",
   "metadata": {
    "deletable": false,
    "editable": false,
    "nbgrader": {
     "cell_type": "markdown",
     "checksum": "fe8d9fc90025c19587de5218970d3c7e",
     "grade": false,
     "grade_id": "cell-5b88fe96eba60fa3",
     "locked": true,
     "schema_version": 3,
     "solution": false,
     "task": false
    },
    "slideshow": {
     "slide_type": "slide"
    }
   },
   "source": [
    "## Question 04: Run a simple regression using education to explain prestige (2pts)\n",
    "\n",
    "1. (0.5 pts) Run the regression (using the `lm` function). Save as `mod1`\n",
    "1. (0.5 pts) What is the estimated coefficient for the effect of  `education` on `prestige`? Use three decimal places, rounding accordingly.\n",
    "1. (0.5 pts) Is the effect of `education` on `prestige` [statistically significant](https://en.wikipedia.org/wiki/Statistical_significance)? Use $\\alpha = 0.05$. The answer has to be `TRUE` or `FALSE`.\n",
    "1. (0.5 pts) How much is the $R^2$? Use three decimal places, rounding accordingly.\n",
    "\n",
    "Save the results on:\n",
    "\n",
    "1. `mod1`\n",
    "1. `mod1_coef`\n",
    "1. `mod1_sig`\n",
    "1. `mod1_r2`"
   ]
  },
  {
   "cell_type": "code",
   "execution_count": 61,
   "id": "c4b76b6a",
   "metadata": {
    "deletable": false,
    "nbgrader": {
     "cell_type": "code",
     "checksum": "7ebb2ef95624a6ccc57993b711e68814",
     "grade": false,
     "grade_id": "cell-cd9e8ad413bb0c97",
     "locked": false,
     "schema_version": 3,
     "solution": true,
     "task": false
    }
   },
   "outputs": [],
   "source": [
    "# your code here\n",
    "mod1 <- lm(prestige ~ education, data = dat)\n",
    "mod1_coef <- round(coef(mod1)[\"education\"], 3)\n",
    "mod1_sig <- summary(mod1)$coefficients[\"education\", \"Pr(>|t|)\"] < 0.05\n",
    "mod1_r2 <- round(summary(mod1)$r.squared, 3)\n"
   ]
  },
  {
   "cell_type": "code",
   "execution_count": 22,
   "id": "1a41f2eb",
   "metadata": {
    "deletable": false,
    "editable": false,
    "nbgrader": {
     "cell_type": "code",
     "checksum": "57ef5af6004db49d43902dc99b4a5c68",
     "grade": false,
     "grade_id": "cell-a2f38bcee6a3d5d2",
     "locked": true,
     "schema_version": 3,
     "solution": false,
     "task": false
    }
   },
   "outputs": [
    {
     "name": "stdout",
     "output_type": "stream",
     "text": [
      "Model Summary:\n"
     ]
    },
    {
     "ename": "ERROR",
     "evalue": "Error in eval(expr, envir, enclos): object 'mod1' not found\n",
     "output_type": "error",
     "traceback": [
      "Error in eval(expr, envir, enclos): object 'mod1' not found\nTraceback:\n",
      "1. print(summary(mod1))",
      "2. summary(mod1)"
     ]
    }
   ],
   "source": [
    "## Checking your solutions\n",
    "# Model\n",
    "cat(\"Model Summary:\\n\")\n",
    "print(summary(mod1))\n",
    "\n",
    "# Coefficient for education\n",
    "cat(\"\\n\\nEducation coefficient:\", mod_coef)\n",
    "\n",
    "# Significance\n",
    "cat(\"\\n\\nIs education significant at alpha = 0.05?\", mod_sig)\n",
    "\n",
    "# R-squared\n",
    "cat(\"\\n\\nR-squared:\", mod_r2)"
   ]
  },
  {
   "cell_type": "code",
   "execution_count": 57,
   "id": "909e061d-6e05-480c-b426-506f2691374b",
   "metadata": {
    "deletable": false,
    "editable": false,
    "nbgrader": {
     "cell_type": "code",
     "checksum": "632d5d125d884334d620ce9f1f223f3f",
     "grade": true,
     "grade_id": "cell-8bbcc4ece0db00dd",
     "locked": true,
     "points": 0.15,
     "schema_version": 3,
     "solution": false,
     "task": false
    }
   },
   "outputs": [
    {
     "name": "stdout",
     "output_type": "stream",
     "text": [
      "\u001b[32mTest passed\u001b[39m 😸\n"
     ]
    }
   ],
   "source": [
    "# Autograded tests\n",
    "test_that('Model `mod1` fit is incorrect. Please check the instructions.', {\n",
    "    expect_equal(digest(mod1), '3c91e1dfbd95dcfbc1cfbca7095604ad')\n",
    "})"
   ]
  },
  {
   "cell_type": "code",
   "execution_count": 58,
   "id": "14493a52-2a9b-4c28-93e8-f8435b2e81c0",
   "metadata": {
    "deletable": false,
    "editable": false,
    "nbgrader": {
     "cell_type": "code",
     "checksum": "fa14d402291db00d22fdd5dbdaec0a16",
     "grade": true,
     "grade_id": "cell-7cabe8c2160a9c9f",
     "locked": true,
     "points": 0.15,
     "schema_version": 3,
     "solution": false,
     "task": false
    }
   },
   "outputs": [
    {
     "name": "stdout",
     "output_type": "stream",
     "text": [
      "\u001b[32mTest passed\u001b[39m 🎊\n"
     ]
    }
   ],
   "source": [
    "# Autograded tests\n",
    "test_that('Model significance is incorrectly stated. Please check the instructions.', {\n",
    "    expect_equal(digest(mod_sig), 'bb73ad91bcb7e948250d465016f7bea8')\n",
    "})"
   ]
  },
  {
   "cell_type": "code",
   "execution_count": 59,
   "id": "ad21d1d0-8be8-4318-a658-e03a7ad8c516",
   "metadata": {
    "deletable": false,
    "editable": false,
    "nbgrader": {
     "cell_type": "code",
     "checksum": "cfc8c9077102ef27b009b18c65ca3f01",
     "grade": true,
     "grade_id": "cell-81a83fb2e08cc824",
     "locked": true,
     "points": 0.15,
     "schema_version": 3,
     "solution": false,
     "task": false
    }
   },
   "outputs": [
    {
     "name": "stdout",
     "output_type": "stream",
     "text": [
      "── \u001b[1m\u001b[33mError\u001b[39m: Education coefficient in `mod1` is incorrect. Please check the instructions.\u001b[22m ──\n",
      "Error in `eval(code, test_env)`: object 'mod_coef' not found\n",
      "\u001b[1mBacktrace:\u001b[22m\n",
      "\u001b[90m    \u001b[39m▆\n",
      "\u001b[90m 1. \u001b[39m├─\u001b[1mtestthat\u001b[22m::expect_equal(digest(mod_coef), \"706ae56576fb57a04d2bea58331b22cd\")\n",
      "\u001b[90m 2. \u001b[39m│ └─testthat::quasi_label(enquo(object), label, arg = \"object\")\n",
      "\u001b[90m 3. \u001b[39m│   └─\u001b[1mrlang\u001b[22m::eval_bare(expr, quo_get_env(quo))\n",
      "\u001b[90m 4. \u001b[39m└─\u001b[1mdigest\u001b[22m::digest(mod_coef)\n",
      "\u001b[90m 5. \u001b[39m  └─\u001b[1mbase\u001b[22m::serialize(object, connection = NULL, ascii = ascii, version = serializeVersion)\n",
      "\n"
     ]
    },
    {
     "ename": "ERROR",
     "evalue": "\u001b[1m\u001b[33mError\u001b[39m:\u001b[22m\n\u001b[33m!\u001b[39m Test failed\n",
     "output_type": "error",
     "traceback": [
      "\u001b[1m\u001b[33mError\u001b[39m:\u001b[22m\n\u001b[33m!\u001b[39m Test failed\nTraceback:\n",
      "1. test_that(\"Education coefficient in `mod1` is incorrect. Please check the instructions.\", \n .     {\n .         expect_equal(digest(mod_coef), \"706ae56576fb57a04d2bea58331b22cd\")\n .     })",
      "2. (function () \n . expr)()",
      "3. reporter$stop_if_needed()",
      "4. abort(\"Test failed\", call = NULL)",
      "5. signal_abort(cnd, .file)"
     ]
    }
   ],
   "source": [
    "# Autograded tests\n",
    "test_that('Education coefficient in `mod1` is incorrect. Please check the instructions.', {\n",
    "    expect_equal(digest(mod_coef), '706ae56576fb57a04d2bea58331b22cd')\n",
    "})"
   ]
  },
  {
   "cell_type": "code",
   "execution_count": 60,
   "id": "40783d29-8afc-480c-8f1a-9a117e487a0d",
   "metadata": {
    "deletable": false,
    "editable": false,
    "nbgrader": {
     "cell_type": "code",
     "checksum": "124ed4c4e31c8069676ba896267b6d44",
     "grade": true,
     "grade_id": "cell-18a989369cf82c65",
     "locked": true,
     "points": 0.15,
     "schema_version": 3,
     "solution": false,
     "task": false
    }
   },
   "outputs": [
    {
     "name": "stdout",
     "output_type": "stream",
     "text": [
      "── \u001b[1m\u001b[33mError\u001b[39m: Dataset summary is incorrect. Please check the instructions.\u001b[22m ─────────\n",
      "Error in `eval(code, test_env)`: object 'mod_r2' not found\n",
      "\u001b[1mBacktrace:\u001b[22m\n",
      "\u001b[90m    \u001b[39m▆\n",
      "\u001b[90m 1. \u001b[39m├─\u001b[1mtestthat\u001b[22m::expect_equal(digest(mod_r2), \"3a748e856a11d33aa30a73b960f914e6\")\n",
      "\u001b[90m 2. \u001b[39m│ └─testthat::quasi_label(enquo(object), label, arg = \"object\")\n",
      "\u001b[90m 3. \u001b[39m│   └─\u001b[1mrlang\u001b[22m::eval_bare(expr, quo_get_env(quo))\n",
      "\u001b[90m 4. \u001b[39m└─\u001b[1mdigest\u001b[22m::digest(mod_r2)\n",
      "\u001b[90m 5. \u001b[39m  └─\u001b[1mbase\u001b[22m::serialize(object, connection = NULL, ascii = ascii, version = serializeVersion)\n",
      "\n"
     ]
    },
    {
     "ename": "ERROR",
     "evalue": "\u001b[1m\u001b[33mError\u001b[39m:\u001b[22m\n\u001b[33m!\u001b[39m Test failed\n",
     "output_type": "error",
     "traceback": [
      "\u001b[1m\u001b[33mError\u001b[39m:\u001b[22m\n\u001b[33m!\u001b[39m Test failed\nTraceback:\n",
      "1. test_that(\"Dataset summary is incorrect. Please check the instructions.\", \n .     {\n .         expect_equal(digest(mod_r2), \"3a748e856a11d33aa30a73b960f914e6\")\n .     })",
      "2. (function () \n . expr)()",
      "3. reporter$stop_if_needed()",
      "4. abort(\"Test failed\", call = NULL)",
      "5. signal_abort(cnd, .file)"
     ]
    }
   ],
   "source": [
    "# Autograded tests\n",
    "test_that('Dataset summary is incorrect. Please check the instructions.', {\n",
    "    expect_equal(digest(mod_r2), '3a748e856a11d33aa30a73b960f914e6')\n",
    "})"
   ]
  },
  {
   "cell_type": "markdown",
   "id": "c82407c2",
   "metadata": {
    "deletable": false,
    "editable": false,
    "nbgrader": {
     "cell_type": "markdown",
     "checksum": "137ab71899bc96094632c95b39204c39",
     "grade": false,
     "grade_id": "cell-f0fb6118bdb6b408",
     "locked": true,
     "schema_version": 3,
     "solution": false,
     "task": false
    },
    "slideshow": {
     "slide_type": "slide"
    }
   },
   "source": [
    "## Question 05: Run the full model (2pts)\n",
    "\n",
    "1. (1.0 pts) Run the regression: $$ \\text{prestige}_i = b_0 + b_1 \\text{income}_i + b_2 \\text{education}_i + b_3 \\text{type}_i + e_i $$ Note that $b_3$ will unpack the profession `type` (categorical) variable into two dummies, one for `WC` (white-collar) and another for `PROF` professionals. In this situation, the reference category is `BC` (blue-collar).\n",
    "\n",
    "2. (1.0 pt) Is this model better than the one you ran in Question 04? Fit an [ANOVA](https://en.wikipedia.org/wiki/Analysis_of_variance) test to compare both models and decide using the [p-value](https://en.wikipedia.org/wiki/P-value) of the test. Use $alpha = 0.05$.\n",
    "\n",
    "Save the results on:\n",
    "\n",
    "1. `mod2`\n",
    "1. `anova_m1xm2` for the ANOVA test and `anova_sig` for the significance (should be a `TRUE` or `FALSE` statement)."
   ]
  },
  {
   "cell_type": "code",
   "execution_count": null,
   "id": "237d0bac-a4df-49ca-95a4-2f224381d8a5",
   "metadata": {
    "deletable": false,
    "nbgrader": {
     "cell_type": "code",
     "checksum": "5ebe725424d8ec939b917c1bed944dd3",
     "grade": false,
     "grade_id": "cell-0d617807ada66d09",
     "locked": false,
     "schema_version": 3,
     "solution": true,
     "task": false
    }
   },
   "outputs": [],
   "source": [
    "# your code here\n",
    "fail() # No Answer - remove if you provide an answer"
   ]
  },
  {
   "cell_type": "code",
   "execution_count": null,
   "id": "4e8f2a08-75da-4623-ba98-427c45c4483c",
   "metadata": {
    "deletable": false,
    "editable": false,
    "nbgrader": {
     "cell_type": "code",
     "checksum": "871acc649fb7c5f771bfe8e89043825b",
     "grade": false,
     "grade_id": "cell-02c73fcc7b8cbb66",
     "locked": true,
     "schema_version": 3,
     "solution": false,
     "task": false
    }
   },
   "outputs": [],
   "source": [
    "## Checking your solutions\n",
    "# Model\n",
    "cat(\"Model Summary:\\n\")\n",
    "print(summary(mod2))\n",
    "\n",
    "# ANOVA comparing models\n",
    "cat(\"\\n\\nANOVA:\\n\")\n",
    "print(anova_m1xm2)\n",
    "\n",
    "# Significance\n",
    "cat(\"\\n\\nIs the second model (`mod2`) better than the first one (`mod1`)?\", anova_sig)"
   ]
  },
  {
   "cell_type": "code",
   "execution_count": null,
   "id": "6d8ceae2-a408-423c-a640-24fa8d95382c",
   "metadata": {
    "deletable": false,
    "editable": false,
    "nbgrader": {
     "cell_type": "code",
     "checksum": "080fb74427f601bdfb342a4e2a5a148e",
     "grade": true,
     "grade_id": "cell-3038efd5804a6698",
     "locked": true,
     "points": 0.3,
     "schema_version": 3,
     "solution": false,
     "task": false
    }
   },
   "outputs": [],
   "source": [
    "# Autograded tests\n",
    "test_that('`mod2` fit is incorrect. Please check the instructions.', {\n",
    "    expect_equal(digest(mod2), 'a16a7061a8787babad0e851fb03b6583')\n",
    "})"
   ]
  },
  {
   "cell_type": "code",
   "execution_count": null,
   "id": "c1a61ddd-2c5c-4f21-aed8-348ccf865b33",
   "metadata": {
    "deletable": false,
    "editable": false,
    "nbgrader": {
     "cell_type": "code",
     "checksum": "0b0a4cff471b89cb0aa3654272733238",
     "grade": true,
     "grade_id": "cell-075dc785ca02ced1",
     "locked": true,
     "points": 0.15,
     "schema_version": 3,
     "solution": false,
     "task": false
    }
   },
   "outputs": [],
   "source": [
    "# Autograded tests\n",
    "test_that('ANOVA fit is incorrect. Please check the instructions.', {\n",
    "    expect_equal(digest(anova_m1xm2), '0d29657c2d5679a45a8fd3bd200eee2a')\n",
    "})"
   ]
  },
  {
   "cell_type": "code",
   "execution_count": null,
   "id": "1cbea06c-f831-4ea7-b982-9cf1d4a65023",
   "metadata": {
    "deletable": false,
    "editable": false,
    "nbgrader": {
     "cell_type": "code",
     "checksum": "93cdd292d7ccb2c3cc69d3393ada8bd9",
     "grade": true,
     "grade_id": "cell-f8844e68ed5c02e4",
     "locked": true,
     "points": 0.15,
     "schema_version": 3,
     "solution": false,
     "task": false
    }
   },
   "outputs": [],
   "source": [
    "# Autograded tests\n",
    "test_that('`mod2` x `mod1` significance test is incorrect. Please check the instructions.', {\n",
    "    expect_equal(digest(anova_sig), 'bb73ad91bcb7e948250d465016f7bea8')\n",
    "})"
   ]
  },
  {
   "cell_type": "markdown",
   "id": "edb0f584",
   "metadata": {
    "deletable": false,
    "editable": false,
    "nbgrader": {
     "cell_type": "markdown",
     "checksum": "79dfb50726c32396d0e78e6c7a9764e3",
     "grade": false,
     "grade_id": "cell-a19539acbc0044d0",
     "locked": true,
     "schema_version": 3,
     "solution": false,
     "task": false
    },
    "slideshow": {
     "slide_type": "-"
    }
   },
   "source": [
    "That's all, folks! **Great work!**\n",
    "\n",
    "Now, **submit it!**\n",
    "\n",
    "Once you've completed all the cells above (saving regularly):\n",
    "\n",
    "- Click \"Validate\". This will check to determine whether you have passed all visible tests.\n",
    "\n",
    "- Once you have validated the assignment, you should have an option to \"Submit\" the assignment (next to where the assignment is stored in your directory). Click this.\n",
    "\n",
    "- This will now show up under your \"Submitted Assignments\" section.\n",
    "\n",
    "Please check in with your TA if you have trouble accessing or submitting the assignment!"
   ]
  },
  {
   "cell_type": "code",
   "execution_count": null,
   "id": "73a0d047-2edf-45e8-acc1-ce4aa62cfd62",
   "metadata": {
    "deletable": false,
    "editable": false,
    "nbgrader": {
     "cell_type": "code",
     "checksum": "66884e6cc94cb22bd8eb73ef9037c038",
     "grade": true,
     "grade_id": "cell-100d523594a99218",
     "locked": true,
     "points": 7,
     "schema_version": 3,
     "solution": false,
     "task": false
    }
   },
   "outputs": [],
   "source": [
    "# Try bump\n",
    "expect_true(TRUE)"
   ]
  }
 ],
 "metadata": {
  "citation-manager": {
   "items": {}
  },
  "kernelspec": {
   "display_name": "R",
   "language": "R",
   "name": "ir"
  },
  "language_info": {
   "codemirror_mode": "r",
   "file_extension": ".r",
   "mimetype": "text/x-r-source",
   "name": "R",
   "pygments_lexer": "r",
   "version": "4.3.3"
  }
 },
 "nbformat": 4,
 "nbformat_minor": 5
}
